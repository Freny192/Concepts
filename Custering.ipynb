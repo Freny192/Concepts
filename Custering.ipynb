{
 "cells": [
  {
   "cell_type": "code",
   "execution_count": 1,
   "id": "1ec3a9d9",
   "metadata": {},
   "outputs": [],
   "source": [
    "from sklearn.cluster import KMeans\n",
    "from sklearn import metrics\n",
    "from scipy.spatial.distance import cdist\n",
    "import numpy as np\n",
    "import matplotlib.pyplot as plt\n",
    "import pandas as pd\n",
    "import os\n",
    "import warnings\n",
    "warnings.filterwarnings(\"ignore\")\n",
    "from matplotlib.pyplot import figure"
   ]
  },
  {
   "cell_type": "code",
   "execution_count": 2,
   "id": "44728ee1",
   "metadata": {},
   "outputs": [],
   "source": [
    "folder_path = r'C:/Users/fpate/Desktop/AIT-580'\n",
    "os.chdir(folder_path)"
   ]
  },
  {
   "cell_type": "code",
   "execution_count": 3,
   "id": "a74fc074",
   "metadata": {},
   "outputs": [
    {
     "data": {
      "text/plain": [
       "'C:\\\\Users\\\\fpate\\\\Desktop\\\\AIT-580'"
      ]
     },
     "execution_count": 3,
     "metadata": {},
     "output_type": "execute_result"
    }
   ],
   "source": [
    "os.getcwd()"
   ]
  },
  {
   "cell_type": "code",
   "execution_count": 4,
   "id": "6ca59e10",
   "metadata": {},
   "outputs": [],
   "source": [
    "data = pd.read_csv('ScreenTime.csv')"
   ]
  },
  {
   "cell_type": "code",
   "execution_count": 5,
   "id": "4c3aac32",
   "metadata": {},
   "outputs": [
    {
     "data": {
      "text/html": [
       "<div>\n",
       "<style scoped>\n",
       "    .dataframe tbody tr th:only-of-type {\n",
       "        vertical-align: middle;\n",
       "    }\n",
       "\n",
       "    .dataframe tbody tr th {\n",
       "        vertical-align: top;\n",
       "    }\n",
       "\n",
       "    .dataframe thead th {\n",
       "        text-align: right;\n",
       "    }\n",
       "</style>\n",
       "<table border=\"1\" class=\"dataframe\">\n",
       "  <thead>\n",
       "    <tr style=\"text-align: right;\">\n",
       "      <th></th>\n",
       "      <th>ElGrade</th>\n",
       "      <th>HrVidWk</th>\n",
       "      <th>MealSkip</th>\n",
       "      <th>AttnTest</th>\n",
       "    </tr>\n",
       "  </thead>\n",
       "  <tbody>\n",
       "    <tr>\n",
       "      <th>0</th>\n",
       "      <td>0</td>\n",
       "      <td>2</td>\n",
       "      <td>5</td>\n",
       "      <td>1</td>\n",
       "    </tr>\n",
       "    <tr>\n",
       "      <th>1</th>\n",
       "      <td>0</td>\n",
       "      <td>4</td>\n",
       "      <td>3</td>\n",
       "      <td>1</td>\n",
       "    </tr>\n",
       "    <tr>\n",
       "      <th>2</th>\n",
       "      <td>1</td>\n",
       "      <td>4</td>\n",
       "      <td>6</td>\n",
       "      <td>1</td>\n",
       "    </tr>\n",
       "    <tr>\n",
       "      <th>3</th>\n",
       "      <td>1</td>\n",
       "      <td>6</td>\n",
       "      <td>4</td>\n",
       "      <td>1</td>\n",
       "    </tr>\n",
       "    <tr>\n",
       "      <th>4</th>\n",
       "      <td>1</td>\n",
       "      <td>10</td>\n",
       "      <td>2</td>\n",
       "      <td>8</td>\n",
       "    </tr>\n",
       "    <tr>\n",
       "      <th>5</th>\n",
       "      <td>4</td>\n",
       "      <td>2</td>\n",
       "      <td>5</td>\n",
       "      <td>1</td>\n",
       "    </tr>\n",
       "    <tr>\n",
       "      <th>6</th>\n",
       "      <td>4</td>\n",
       "      <td>3</td>\n",
       "      <td>6</td>\n",
       "      <td>1</td>\n",
       "    </tr>\n",
       "    <tr>\n",
       "      <th>7</th>\n",
       "      <td>3</td>\n",
       "      <td>3</td>\n",
       "      <td>6</td>\n",
       "      <td>1</td>\n",
       "    </tr>\n",
       "    <tr>\n",
       "      <th>8</th>\n",
       "      <td>3</td>\n",
       "      <td>4</td>\n",
       "      <td>8</td>\n",
       "      <td>1</td>\n",
       "    </tr>\n",
       "    <tr>\n",
       "      <th>9</th>\n",
       "      <td>3</td>\n",
       "      <td>5</td>\n",
       "      <td>2</td>\n",
       "      <td>1</td>\n",
       "    </tr>\n",
       "    <tr>\n",
       "      <th>10</th>\n",
       "      <td>3</td>\n",
       "      <td>13</td>\n",
       "      <td>4</td>\n",
       "      <td>8</td>\n",
       "    </tr>\n",
       "    <tr>\n",
       "      <th>11</th>\n",
       "      <td>3</td>\n",
       "      <td>14</td>\n",
       "      <td>2</td>\n",
       "      <td>8</td>\n",
       "    </tr>\n",
       "    <tr>\n",
       "      <th>12</th>\n",
       "      <td>3</td>\n",
       "      <td>15</td>\n",
       "      <td>7</td>\n",
       "      <td>8</td>\n",
       "    </tr>\n",
       "    <tr>\n",
       "      <th>13</th>\n",
       "      <td>4</td>\n",
       "      <td>3</td>\n",
       "      <td>4</td>\n",
       "      <td>1</td>\n",
       "    </tr>\n",
       "    <tr>\n",
       "      <th>14</th>\n",
       "      <td>4</td>\n",
       "      <td>5</td>\n",
       "      <td>3</td>\n",
       "      <td>1</td>\n",
       "    </tr>\n",
       "    <tr>\n",
       "      <th>15</th>\n",
       "      <td>4</td>\n",
       "      <td>12</td>\n",
       "      <td>5</td>\n",
       "      <td>8</td>\n",
       "    </tr>\n",
       "    <tr>\n",
       "      <th>16</th>\n",
       "      <td>4</td>\n",
       "      <td>13</td>\n",
       "      <td>1</td>\n",
       "      <td>8</td>\n",
       "    </tr>\n",
       "    <tr>\n",
       "      <th>17</th>\n",
       "      <td>4</td>\n",
       "      <td>14</td>\n",
       "      <td>8</td>\n",
       "      <td>8</td>\n",
       "    </tr>\n",
       "    <tr>\n",
       "      <th>18</th>\n",
       "      <td>4</td>\n",
       "      <td>15</td>\n",
       "      <td>4</td>\n",
       "      <td>8</td>\n",
       "    </tr>\n",
       "    <tr>\n",
       "      <th>19</th>\n",
       "      <td>4</td>\n",
       "      <td>16</td>\n",
       "      <td>6</td>\n",
       "      <td>8</td>\n",
       "    </tr>\n",
       "    <tr>\n",
       "      <th>20</th>\n",
       "      <td>5</td>\n",
       "      <td>7</td>\n",
       "      <td>7</td>\n",
       "      <td>4</td>\n",
       "    </tr>\n",
       "    <tr>\n",
       "      <th>21</th>\n",
       "      <td>5</td>\n",
       "      <td>13</td>\n",
       "      <td>3</td>\n",
       "      <td>8</td>\n",
       "    </tr>\n",
       "    <tr>\n",
       "      <th>22</th>\n",
       "      <td>5</td>\n",
       "      <td>14</td>\n",
       "      <td>7</td>\n",
       "      <td>8</td>\n",
       "    </tr>\n",
       "    <tr>\n",
       "      <th>23</th>\n",
       "      <td>5</td>\n",
       "      <td>15</td>\n",
       "      <td>1</td>\n",
       "      <td>8</td>\n",
       "    </tr>\n",
       "    <tr>\n",
       "      <th>24</th>\n",
       "      <td>6</td>\n",
       "      <td>9</td>\n",
       "      <td>8</td>\n",
       "      <td>4</td>\n",
       "    </tr>\n",
       "    <tr>\n",
       "      <th>25</th>\n",
       "      <td>6</td>\n",
       "      <td>10</td>\n",
       "      <td>3</td>\n",
       "      <td>4</td>\n",
       "    </tr>\n",
       "    <tr>\n",
       "      <th>26</th>\n",
       "      <td>6</td>\n",
       "      <td>12</td>\n",
       "      <td>3</td>\n",
       "      <td>8</td>\n",
       "    </tr>\n",
       "    <tr>\n",
       "      <th>27</th>\n",
       "      <td>6</td>\n",
       "      <td>15</td>\n",
       "      <td>5</td>\n",
       "      <td>8</td>\n",
       "    </tr>\n",
       "    <tr>\n",
       "      <th>28</th>\n",
       "      <td>7</td>\n",
       "      <td>8</td>\n",
       "      <td>8</td>\n",
       "      <td>4</td>\n",
       "    </tr>\n",
       "    <tr>\n",
       "      <th>29</th>\n",
       "      <td>7</td>\n",
       "      <td>10</td>\n",
       "      <td>1</td>\n",
       "      <td>4</td>\n",
       "    </tr>\n",
       "    <tr>\n",
       "      <th>30</th>\n",
       "      <td>7</td>\n",
       "      <td>11</td>\n",
       "      <td>1</td>\n",
       "      <td>4</td>\n",
       "    </tr>\n",
       "    <tr>\n",
       "      <th>31</th>\n",
       "      <td>8</td>\n",
       "      <td>9</td>\n",
       "      <td>7</td>\n",
       "      <td>4</td>\n",
       "    </tr>\n",
       "    <tr>\n",
       "      <th>32</th>\n",
       "      <td>8</td>\n",
       "      <td>10</td>\n",
       "      <td>2</td>\n",
       "      <td>4</td>\n",
       "    </tr>\n",
       "    <tr>\n",
       "      <th>33</th>\n",
       "      <td>9</td>\n",
       "      <td>8</td>\n",
       "      <td>2</td>\n",
       "      <td>4</td>\n",
       "    </tr>\n",
       "    <tr>\n",
       "      <th>34</th>\n",
       "      <td>9</td>\n",
       "      <td>10</td>\n",
       "      <td>4</td>\n",
       "      <td>4</td>\n",
       "    </tr>\n",
       "    <tr>\n",
       "      <th>35</th>\n",
       "      <td>10</td>\n",
       "      <td>9</td>\n",
       "      <td>3</td>\n",
       "      <td>4</td>\n",
       "    </tr>\n",
       "    <tr>\n",
       "      <th>36</th>\n",
       "      <td>11</td>\n",
       "      <td>14</td>\n",
       "      <td>9</td>\n",
       "      <td>8</td>\n",
       "    </tr>\n",
       "    <tr>\n",
       "      <th>37</th>\n",
       "      <td>12</td>\n",
       "      <td>14</td>\n",
       "      <td>9</td>\n",
       "      <td>8</td>\n",
       "    </tr>\n",
       "  </tbody>\n",
       "</table>\n",
       "</div>"
      ],
      "text/plain": [
       "    ElGrade  HrVidWk  MealSkip  AttnTest\n",
       "0         0        2         5         1\n",
       "1         0        4         3         1\n",
       "2         1        4         6         1\n",
       "3         1        6         4         1\n",
       "4         1       10         2         8\n",
       "5         4        2         5         1\n",
       "6         4        3         6         1\n",
       "7         3        3         6         1\n",
       "8         3        4         8         1\n",
       "9         3        5         2         1\n",
       "10        3       13         4         8\n",
       "11        3       14         2         8\n",
       "12        3       15         7         8\n",
       "13        4        3         4         1\n",
       "14        4        5         3         1\n",
       "15        4       12         5         8\n",
       "16        4       13         1         8\n",
       "17        4       14         8         8\n",
       "18        4       15         4         8\n",
       "19        4       16         6         8\n",
       "20        5        7         7         4\n",
       "21        5       13         3         8\n",
       "22        5       14         7         8\n",
       "23        5       15         1         8\n",
       "24        6        9         8         4\n",
       "25        6       10         3         4\n",
       "26        6       12         3         8\n",
       "27        6       15         5         8\n",
       "28        7        8         8         4\n",
       "29        7       10         1         4\n",
       "30        7       11         1         4\n",
       "31        8        9         7         4\n",
       "32        8       10         2         4\n",
       "33        9        8         2         4\n",
       "34        9       10         4         4\n",
       "35       10        9         3         4\n",
       "36       11       14         9         8\n",
       "37       12       14         9         8"
      ]
     },
     "execution_count": 5,
     "metadata": {},
     "output_type": "execute_result"
    }
   ],
   "source": [
    "data"
   ]
  },
  {
   "cell_type": "code",
   "execution_count": 6,
   "id": "debe1808",
   "metadata": {},
   "outputs": [],
   "source": [
    "# Q-1 :- Use the elbow method to calculate the distance for each K value where ranges from 1-10. \n",
    "#Plot the distances for each K. What is the optimal K value? Use your best judgement. "
   ]
  },
  {
   "cell_type": "code",
   "execution_count": 7,
   "id": "bbb1a561",
   "metadata": {},
   "outputs": [],
   "source": [
    "import matplotlib.pyplot as plt\n",
    "from pandas import DataFrame\n",
    "from sklearn.cluster import KMeans"
   ]
  },
  {
   "cell_type": "code",
   "execution_count": 8,
   "id": "28707780",
   "metadata": {},
   "outputs": [
    {
     "data": {
      "image/png": "[encoded data removed]",
      "text/plain": [
       "<Figure size 432x288 with 1 Axes>"
      ]
     },
     "metadata": {
      "needs_background": "light"
     },
     "output_type": "display_data"
    }
   ],
   "source": [
    "df = DataFrame(data,columns=['ElGrade','HrVidWk','MealSkip','AttnTest'])\n",
    "distances = []\n",
    "\n",
    "K = range(1,10)\n",
    "for k in K:\n",
    "    ClusterInfo = kmeanModel = KMeans(n_clusters= k).fit(df)\n",
    "    distances.append(ClusterInfo.inertia_)\n",
    "  \n",
    "plt.plot(K,distances, 'bo-' )\n",
    "plt.xlabel('k-Clusters')\n",
    "plt.ylabel('Distance')\n",
    "plt.title('Cluster values and Distances')\n",
    "plt.show()"
   ]
  },
  {
   "cell_type": "code",
   "execution_count": 9,
   "id": "a513c89b",
   "metadata": {},
   "outputs": [],
   "source": [
    "#By looking at the above plotted graph using the elbow method, it can be clearly seen that point 3 is the breakdown \n",
    "#point. The rate of change reduces from point 3. That means, 3 will be the elbow point, i.e., k=3."
   ]
  },
  {
   "cell_type": "code",
   "execution_count": 10,
   "id": "f770faf5",
   "metadata": {},
   "outputs": [
    {
     "data": {
      "text/plain": [
       "KMeans(n_clusters=3)"
      ]
     },
     "execution_count": 10,
     "metadata": {},
     "output_type": "execute_result"
    }
   ],
   "source": [
    "value_k = KMeans(n_clusters = 3)\n",
    "value_k"
   ]
  },
  {
   "cell_type": "code",
   "execution_count": 11,
   "id": "91955795",
   "metadata": {},
   "outputs": [],
   "source": [
    "# Q-2:- Using the K value you chose in Question 1, fit the data to the KMeans algorithms, and calculate the centroids. "
   ]
  },
  {
   "cell_type": "code",
   "execution_count": 12,
   "id": "965e5eaf",
   "metadata": {},
   "outputs": [
    {
     "data": {
      "image/png": "[encoded data removed]",
      "text/plain": [
       "<Figure size 432x288 with 1 Axes>"
      ]
     },
     "metadata": {
      "needs_background": "light"
     },
     "output_type": "display_data"
    }
   ],
   "source": [
    "df = DataFrame(data,columns=['ElGrade','HrVidWk','MealSkip','AttnTest'])\n",
    "\n",
    "kmeans = KMeans(n_clusters=3).fit(df)\n",
    "centroids = kmeans.cluster_centers_\n",
    "\n",
    "plt.scatter(df['ElGrade'],df['MealSkip'],df['AttnTest'],c=kmeans.labels_.astype(float))\n",
    "plt.scatter(centroids[:, 0],centroids[:, 1],centroids[:, 2],c='red')\n",
    "plt.show()"
   ]
  },
  {
   "cell_type": "code",
   "execution_count": 13,
   "id": "a312fa8d",
   "metadata": {},
   "outputs": [
    {
     "data": {
      "text/plain": [
       "Index(['ElGrade', 'HrVidWk', 'MealSkip', 'AttnTest'], dtype='object')"
      ]
     },
     "execution_count": 13,
     "metadata": {},
     "output_type": "execute_result"
    }
   ],
   "source": [
    "df.columns"
   ]
  },
  {
   "cell_type": "code",
   "execution_count": 14,
   "id": "c90f092f",
   "metadata": {},
   "outputs": [],
   "source": [
    "from sklearn.model_selection import train_test_split\n",
    "from sklearn.metrics import accuracy_score\n",
    "from sklearn.neighbors import KNeighborsClassifier"
   ]
  },
  {
   "cell_type": "code",
   "execution_count": 15,
   "id": "a8f15842",
   "metadata": {},
   "outputs": [],
   "source": [
    "df = pd.read_csv('ScreenTime.csv',header=0)"
   ]
  },
  {
   "cell_type": "code",
   "execution_count": 16,
   "id": "41afd4c4",
   "metadata": {},
   "outputs": [],
   "source": [
    "df['AttnTest']=df['AttnTest'].astype('category')\n",
    "df['ElGrade']=df['ElGrade'].astype('category')"
   ]
  },
  {
   "cell_type": "code",
   "execution_count": 17,
   "id": "a2587c4b",
   "metadata": {},
   "outputs": [],
   "source": [
    "import sklearn.cluster\n",
    "kmeans = sklearn.cluster.KMeans(n_clusters=3,init='k-means++',random_state=0).fit(df)"
   ]
  },
  {
   "cell_type": "code",
   "execution_count": 18,
   "id": "4819375f",
   "metadata": {},
   "outputs": [
    {
     "data": {
      "text/plain": [
       "array([[ 8.07692308,  9.92307692,  4.92307692,  4.61538462],\n",
       "       [ 2.45454545,  3.72727273,  4.72727273,  1.        ],\n",
       "       [ 4.07142857, 13.64285714,  4.14285714,  8.        ]])"
      ]
     },
     "execution_count": 18,
     "metadata": {},
     "output_type": "execute_result"
    }
   ],
   "source": [
    "centroid = kmeans.cluster_centers_\n",
    "centroid"
   ]
  },
  {
   "cell_type": "code",
   "execution_count": 19,
   "id": "c637f40c",
   "metadata": {},
   "outputs": [
    {
     "name": "stdout",
     "output_type": "stream",
     "text": [
      "[1 1 1 1 2 1 1 1 1 1 2 2 2 1 1 2 2 2 2 2 0 2 2 2 0 0 2 2 0 0 0 0 0 0 0 0 0\n",
      " 0]\n"
     ]
    }
   ],
   "source": [
    "print(kmeans.labels_)"
   ]
  },
  {
   "cell_type": "code",
   "execution_count": 20,
   "id": "9f7f42b7",
   "metadata": {},
   "outputs": [
    {
     "data": {
      "text/plain": [
       "444.7942057942058"
      ]
     },
     "execution_count": 20,
     "metadata": {},
     "output_type": "execute_result"
    }
   ],
   "source": [
    "kmeans.inertia_"
   ]
  },
  {
   "cell_type": "code",
   "execution_count": 21,
   "id": "70ba2152",
   "metadata": {},
   "outputs": [
    {
     "data": {
      "text/plain": [
       "3"
      ]
     },
     "execution_count": 21,
     "metadata": {},
     "output_type": "execute_result"
    }
   ],
   "source": [
    "kmeans.n_iter_"
   ]
  },
  {
   "cell_type": "code",
   "execution_count": 22,
   "id": "55c16773",
   "metadata": {},
   "outputs": [
    {
     "data": {
      "text/plain": [
       "Counter({1: 11, 2: 14, 0: 13})"
      ]
     },
     "execution_count": 22,
     "metadata": {},
     "output_type": "execute_result"
    }
   ],
   "source": [
    "from collections import Counter\n",
    "Counter(kmeans.labels_)\n",
    "\n",
    "#this means that k-means has 3 clusters of size 12,14 and 12."
   ]
  },
  {
   "cell_type": "code",
   "execution_count": 23,
   "id": "e3504cb6",
   "metadata": {},
   "outputs": [],
   "source": [
    "#"
   ]
  },
  {
   "cell_type": "code",
   "execution_count": 24,
   "id": "f4565ff7",
   "metadata": {},
   "outputs": [
    {
     "data": {
      "text/html": [
       "<div>\n",
       "<style scoped>\n",
       "    .dataframe tbody tr th:only-of-type {\n",
       "        vertical-align: middle;\n",
       "    }\n",
       "\n",
       "    .dataframe tbody tr th {\n",
       "        vertical-align: top;\n",
       "    }\n",
       "\n",
       "    .dataframe thead th {\n",
       "        text-align: right;\n",
       "    }\n",
       "</style>\n",
       "<table border=\"1\" class=\"dataframe\">\n",
       "  <thead>\n",
       "    <tr style=\"text-align: right;\">\n",
       "      <th></th>\n",
       "      <th>ElGrade</th>\n",
       "      <th>MealSkip</th>\n",
       "      <th>HrVidWk</th>\n",
       "    </tr>\n",
       "  </thead>\n",
       "  <tbody>\n",
       "    <tr>\n",
       "      <th>0</th>\n",
       "      <td>0</td>\n",
       "      <td>5</td>\n",
       "      <td>2</td>\n",
       "    </tr>\n",
       "    <tr>\n",
       "      <th>1</th>\n",
       "      <td>0</td>\n",
       "      <td>3</td>\n",
       "      <td>4</td>\n",
       "    </tr>\n",
       "  </tbody>\n",
       "</table>\n",
       "</div>"
      ],
      "text/plain": [
       "   ElGrade  MealSkip  HrVidWk\n",
       "0        0         5        2\n",
       "1        0         3        4"
      ]
     },
     "execution_count": 24,
     "metadata": {},
     "output_type": "execute_result"
    }
   ],
   "source": [
    "from sklearn.datasets import make_blobs\n",
    "import pandas as pd\n",
    "\n",
    "dataset, classes = make_blobs(n_samples=200, n_features=2, centers=4, cluster_std=0.5, random_state=0)\n",
    "# make as panda dataframe for easy understanding\n",
    "df = pd.DataFrame(data, columns=['ElGrade', 'MealSkip','HrVidWk'])\n",
    "df.head(2)"
   ]
  },
  {
   "cell_type": "code",
   "execution_count": 25,
   "id": "bb59db57",
   "metadata": {},
   "outputs": [],
   "source": [
    "df = DataFrame(data,columns=['ElGrade','HrVidWk','MealSkip','AttnTest'])"
   ]
  },
  {
   "cell_type": "code",
   "execution_count": 26,
   "id": "5c302107",
   "metadata": {},
   "outputs": [],
   "source": [
    "# Q-3:- Using a scatter plot, show the clusters for the data points using ElGrad for your x-axis and MealSkip for your y-axis.\n",
    "#Graph the centroids. How would you interpret the results? "
   ]
  },
  {
   "cell_type": "code",
   "execution_count": 40,
   "id": "c82f5bf7",
   "metadata": {},
   "outputs": [
    {
     "name": "stdout",
     "output_type": "stream",
     "text": [
      "[[8.8        8.2       ]\n",
      " [3.13636364 4.95454545]\n",
      " [6.90909091 2.18181818]]\n"
     ]
    },
    {
     "data": {
      "image/png": "[encoded data removed]",
      "text/plain": [
       "<Figure size 432x288 with 1 Axes>"
      ]
     },
     "metadata": {
      "needs_background": "light"
     },
     "output_type": "display_data"
    }
   ],
   "source": [
    "from sklearn.cluster import KMeans\n",
    "from sklearn import metrics\n",
    "import numpy as np\n",
    "import matplotlib.pyplot as plt\n",
    "\n",
    "x = df['ElGrade']\n",
    "y = df['MealSkip']\n",
    "\n",
    "# create new plot and data\n",
    "plt.plot()\n",
    "X = np.array(list(zip(x, y))).reshape(len(x), 2)\n",
    "colors = ['b', 'g', 'c']\n",
    "markers = ['o', 'v', 's']\n",
    "\n",
    "# KMeans algorithm \n",
    "K = 3\n",
    "kmeans_model = KMeans(n_clusters=K).fit(X)\n",
    "\n",
    "print(kmeans_model.cluster_centers_)\n",
    "centers = np.array(kmeans_model.cluster_centers_)\n",
    "\n",
    "plt.plot()\n",
    "plt.title('k means centroids')\n",
    "\n",
    "for i, l in enumerate(kmeans_model.labels_):\n",
    "    plt.plot(x[i], y[i], color=colors[l], marker=markers[l],ls='None')\n",
    "    plt.xlim([0, 13])\n",
    "    plt.ylim([0, 10])\n",
    "\n",
    "plt.scatter(centers[:,0], centers[:,1], marker=\"x\", color='r')\n",
    "plt.xlabel('ElGrade')\n",
    "plt.ylabel('MealSkip')\n",
    "plt.show()"
   ]
  },
  {
   "cell_type": "code",
   "execution_count": 28,
   "id": "1ba23125",
   "metadata": {},
   "outputs": [],
   "source": [
    "#Interpreting result of people who skipped their meal where based on their elementary school grade: \n",
    "#More number of people who belongs to same category that skips meal per week are those whose centroid of ElGrade is (3.13,4.95). And the highest number people that skipped their meal per week was found to have centroid of ElGrade (8.8,8.2). "
   ]
  },
  {
   "cell_type": "code",
   "execution_count": 29,
   "id": "8c32cb2a",
   "metadata": {},
   "outputs": [],
   "source": [
    "# Q-4:- Using a scatter plot, show the clusters for the data points using HrVidWk for your x-axis and MealSkip for your y-axis.\n",
    "#Graph the centroids. How would you interpret the results? "
   ]
  },
  {
   "cell_type": "code",
   "execution_count": 30,
   "id": "b1cf9111",
   "metadata": {},
   "outputs": [
    {
     "name": "stdout",
     "output_type": "stream",
     "text": [
      "[[11.33333333  2.46666667]\n",
      " [ 4.93333333  5.46666667]\n",
      " [14.625       6.875     ]]\n"
     ]
    },
    {
     "data": {
      "image/png": "[encoded data removed]",
      "text/plain": [
       "<Figure size 432x288 with 1 Axes>"
      ]
     },
     "metadata": {
      "needs_background": "light"
     },
     "output_type": "display_data"
    }
   ],
   "source": [
    "from sklearn.cluster import KMeans\n",
    "from sklearn import metrics\n",
    "import numpy as np\n",
    "import matplotlib.pyplot as plt\n",
    "\n",
    "x = df['HrVidWk']\n",
    "y = df['MealSkip']\n",
    "\n",
    "# create new plot and data\n",
    "plt.plot()\n",
    "X = np.array(list(zip(x, y))).reshape(len(x), 2)\n",
    "colors = ['b', 'g', 'c']\n",
    "markers = ['o', 'v', 's']\n",
    "# KMeans algorithm \n",
    "K = 3\n",
    "kmeans_model = KMeans(n_clusters=K).fit(X)\n",
    "\n",
    "print(kmeans_model.cluster_centers_)\n",
    "centers = np.array(kmeans_model.cluster_centers_)\n",
    "\n",
    "plt.plot()\n",
    "plt.title('k means centroids')\n",
    "\n",
    "for i, l in enumerate(kmeans_model.labels_):\n",
    "    plt.plot(x[i], y[i], color=colors[l], marker=markers[l],ls='None')\n",
    "    plt.xlim([0, 17])\n",
    "    plt.ylim([0, 10])\n",
    "\n",
    "plt.scatter(centers[:,0], centers[:,1], marker=\"x\", color='r',label=\"centroids\",s=80)\n",
    "plt.xlabel('HrVidWk')\n",
    "plt.ylabel('MealSkip')\n",
    "plt.legend(loc='upper left')\n",
    "plt.show()"
   ]
  },
  {
   "cell_type": "code",
   "execution_count": 31,
   "id": "900a63ba",
   "metadata": {},
   "outputs": [],
   "source": [
    "#Interpreting results of people who skipped their meal on the basis of usage of device per week: the centroid points of three clusters\n",
    "#are 4,13 and 13. And the more number of people whose usage of devices had great affect on mealskipping were those whose value of centroid is (11.28, 2,28)."
   ]
  },
  {
   "cell_type": "code",
   "execution_count": 32,
   "id": "2d40a1b2",
   "metadata": {},
   "outputs": [],
   "source": [
    "# Q-5:- Using a scatter plot, show the clusters for the data points using MealSkip for your x-axis and AttnTest for your y-axis. \n",
    "#Graph the centroids. How would you interpret the results? "
   ]
  },
  {
   "cell_type": "code",
   "execution_count": 44,
   "id": "192ab706",
   "metadata": {},
   "outputs": [
    {
     "data": {
      "image/png": "[encoded data removed]",
      "text/plain": [
       "<Figure size 432x288 with 1 Axes>"
      ]
     },
     "metadata": {
      "needs_background": "light"
     },
     "output_type": "display_data"
    }
   ],
   "source": [
    "m_df = df[['MealSkip','AttnTest']]\n",
    "kmeans = KMeans(n_clusters=3, init='k-means++', random_state=0).fit(m_df)\n",
    "# Plot the scatter graph and color clusters\n",
    "x = df['MealSkip']\n",
    "y = df['AttnTest']\n",
    "\n",
    "plt.plot()\n",
    "X = np.array(list(zip(x, y))).reshape(len(x), 2)\n",
    "colors = ['b', 'g', 'c']\n",
    "markers = ['o', 'v', 's']\n",
    "\n",
    "# KMeans algorithm \n",
    "K = 3\n",
    "kmeans_model = KMeans(n_clusters=K,random_state=0).fit(df)\n",
    "\n",
    "#print(kmeans_model.cluster_centers_)\n",
    "#centers = np.array(kmeans_model.cluster_centers_)\n",
    "\n",
    "\n",
    "#sns.scatterplot(data=m_df, x='MealSkip', y='AttnTest', hue=kmeans.labels_)\n",
    "# Indicate the centroids \n",
    "for i, l in enumerate(kmeans_model.labels_):\n",
    "    plt.plot(x[i], y[i], color=colors[l], marker=markers[l],ls='None')\n",
    "    plt.xlim([0, 10])\n",
    "    plt.ylim([0, 10])\n",
    "plt.scatter(kmeans.cluster_centers_[:,0], kmeans.cluster_centers_[:,1], marker=\"X\", c=\"r\", s=80)\n",
    "plt.xlabel('MealSkip')\n",
    "plt.ylabel('AttnTest')\n",
    "plt.show()"
   ]
  },
  {
   "cell_type": "code",
   "execution_count": null,
   "id": "dd975591",
   "metadata": {},
   "outputs": [],
   "source": [
    "#Interpreting the results of people skipping the meal and the reason is score on non-screen test of attention: The cluster whose centroid is(3.7,2.16) \n",
    "#is the one with the highest number of people who skipped their meal per week."
   ]
  },
  {
   "cell_type": "code",
   "execution_count": null,
   "id": "10518a4a",
   "metadata": {},
   "outputs": [],
   "source": []
  },
  {
   "cell_type": "code",
   "execution_count": null,
   "id": "1edbe393",
   "metadata": {},
   "outputs": [],
   "source": []
  }
 ],
 "metadata": {
  "kernelspec": {
   "display_name": "Python 3 (ipykernel)",
   "language": "python",
   "name": "python3"
  },
  "language_info": {
   "codemirror_mode": {
    "name": "ipython",
    "version": 3
   },
   "file_extension": ".py",
   "mimetype": "text/x-python",
   "name": "python",
   "nbconvert_exporter": "python",
   "pygments_lexer": "ipython3",
   "version": "3.9.12"
  }
 },
 "nbformat": 4,
 "nbformat_minor": 5
}
